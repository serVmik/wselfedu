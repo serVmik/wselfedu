{
 "cells": [
  {
   "cell_type": "code",
   "execution_count": 1,
   "id": "06551c99",
   "metadata": {},
   "outputs": [],
   "source": [
    "from english.models import WordModel"
   ]
  },
  {
   "cell_type": "code",
   "execution_count": 14,
   "id": "36c9358f",
   "metadata": {},
   "outputs": [],
   "source": [
    "user_id = 2"
   ]
  },
  {
   "cell_type": "code",
   "execution_count": 16,
   "id": "b0db599d",
   "metadata": {},
   "outputs": [
    {
     "data": {
      "text/plain": [
       "<QuerySet [<WordModel: word02>, <WordModel: word04>, <WordModel: word05>]>"
      ]
     },
     "execution_count": 16,
     "metadata": {},
     "output_type": "execute_result"
    }
   ],
   "source": [
    "words = WordModel.objects.filter(\n",
    "    worduserknowledgerelation__knowledge_assessment__in=(1, 2, 3, 9, 11),\n",
    "    worduserknowledgerelation__user_id=user_id\n",
    ")\n",
    "words"
   ]
  }
 ],
 "metadata": {
  "kernelspec": {
   "display_name": "Django Shell-Plus",
   "language": "python",
   "name": "django_extensions"
  },
  "language_info": {
   "codemirror_mode": {
    "name": "ipython",
    "version": 3
   },
   "file_extension": ".py",
   "mimetype": "text/x-python",
   "name": "python",
   "nbconvert_exporter": "python",
   "pygments_lexer": "ipython3",
   "version": "3.10.12"
  }
 },
 "nbformat": 4,
 "nbformat_minor": 5
}
