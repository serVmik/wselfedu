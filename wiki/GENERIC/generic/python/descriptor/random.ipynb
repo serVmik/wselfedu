{
 "cells": [
  {
   "cell_type": "code",
   "execution_count": 1,
   "id": "dd03dff2",
   "metadata": {},
   "outputs": [],
   "source": [
    "from random import randint, choice"
   ]
  },
  {
   "cell_type": "code",
   "execution_count": 2,
   "id": "7243e92b",
   "metadata": {},
   "outputs": [],
   "source": [
    "MIN_OPERAND_VALUE = 1\n",
    "MAX_OPERAND_VALUE = 10"
   ]
  },
  {
   "cell_type": "code",
   "execution_count": 3,
   "id": "e239aad1",
   "metadata": {},
   "outputs": [],
   "source": [
    "class RandomNumber:\n",
    "    def __get__(self, obj, objtype=None):\n",
    "        return randint(MIN_OPERAND_VALUE, MAX_OPERAND_VALUE)"
   ]
  },
  {
   "cell_type": "code",
   "execution_count": 4,
   "id": "b1c6c4dd",
   "metadata": {},
   "outputs": [],
   "source": [
    "class RandomOperator:\n",
    "    def __get__(self, obj, objtype=None):\n",
    "        return choice(['+', '-', '*'])"
   ]
  },
  {
   "cell_type": "code",
   "execution_count": 20,
   "id": "34f1b73f",
   "metadata": {},
   "outputs": [],
   "source": [
    "class MathTask:\n",
    "    \n",
    "    random_number = RandomNumber()\n",
    "    random_operator = RandomOperator()\n",
    "    correct_answer = None\n",
    "\n",
    "    def __init__(self):\n",
    "        \"\"\"Get random operand values and operator when initializing a class instance.\"\"\"\n",
    "        self.first_operand = self.random_number\n",
    "        self.second_operand = self.random_number\n",
    "        self.operator = self.random_operator\n",
    "    \n",
    "    def create_question(self):\n",
    "        \"\"\"Create question.\"\"\"\n",
    "        return f'{self.first_operand} {self.operator} {self.second_operand}'\n",
    "    \n",
    "    def create_correct_unswer(self):\n",
    "        \"\"\"Create correct unswer.\"\"\"\n",
    "        match self.operator:\n",
    "            case '+':\n",
    "                self.correct_answer = self.first_operand + self.second_operand\n",
    "            case '-':\n",
    "                self.correct_answer = self.first_operand - self.second_operand\n",
    "            case '*':\n",
    "                self.correct_answer = self.first_operand * self.second_operand\n",
    "        return self.correct_answer\n",
    "        \n",
    "        "
   ]
  },
  {
   "cell_type": "code",
   "execution_count": 25,
   "id": "ef295b90",
   "metadata": {},
   "outputs": [],
   "source": [
    "task = MathTask()\n",
    "question = task.create_question()\n",
    "correct_answer = task.create_correct_unswer()"
   ]
  },
  {
   "cell_type": "code",
   "execution_count": 26,
   "id": "9e9fc16f",
   "metadata": {},
   "outputs": [
    {
     "data": {
      "text/plain": [
       "'1 * 3'"
      ]
     },
     "execution_count": 26,
     "metadata": {},
     "output_type": "execute_result"
    }
   ],
   "source": [
    "question"
   ]
  },
  {
   "cell_type": "code",
   "execution_count": 27,
   "id": "0b0de490",
   "metadata": {},
   "outputs": [
    {
     "data": {
      "text/plain": [
       "3"
      ]
     },
     "execution_count": 27,
     "metadata": {},
     "output_type": "execute_result"
    }
   ],
   "source": [
    "correct_answer"
   ]
  }
 ],
 "metadata": {
  "kernelspec": {
   "display_name": "Python 3 (ipykernel)",
   "language": "python",
   "name": "python3"
  },
  "language_info": {
   "codemirror_mode": {
    "name": "ipython",
    "version": 3
   },
   "file_extension": ".py",
   "mimetype": "text/x-python",
   "name": "python",
   "nbconvert_exporter": "python",
   "pygments_lexer": "ipython3",
   "version": "3.10.12"
  }
 },
 "nbformat": 4,
 "nbformat_minor": 5
}
