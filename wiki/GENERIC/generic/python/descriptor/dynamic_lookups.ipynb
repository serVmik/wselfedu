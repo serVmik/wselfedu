{
 "cells": [
  {
   "cell_type": "code",
   "execution_count": 1,
   "id": "5d2f2387",
   "metadata": {},
   "outputs": [],
   "source": [
    "class SequenceLen:\n",
    "    def __get__(self, obj, objtype=None):\n",
    "        return len(obj.sequence)"
   ]
  },
  {
   "cell_type": "code",
   "execution_count": 2,
   "id": "2a5d9dbb",
   "metadata": {},
   "outputs": [],
   "source": [
    "    class Sequence:\n",
    "        \"\"\"Class Sequence\"\"\"\n",
    "        \n",
    "        size = SequenceLen()\n",
    "        def __init__(self, sequence):\n",
    "            self.sequence = sequence"
   ]
  },
  {
   "cell_type": "code",
   "execution_count": 3,
   "id": "cc5f9687",
   "metadata": {},
   "outputs": [],
   "source": [
    "s = Sequence('sequence_value')"
   ]
  },
  {
   "cell_type": "code",
   "execution_count": 4,
   "id": "6b7156e0",
   "metadata": {},
   "outputs": [
    {
     "data": {
      "text/plain": [
       "<__main__.Sequence at 0x7f31f1e4c040>"
      ]
     },
     "execution_count": 4,
     "metadata": {},
     "output_type": "execute_result"
    }
   ],
   "source": [
    "s"
   ]
  },
  {
   "cell_type": "code",
   "execution_count": 5,
   "id": "71058bfe",
   "metadata": {},
   "outputs": [
    {
     "data": {
      "text/plain": [
       "'Class Sequence'"
      ]
     },
     "execution_count": 5,
     "metadata": {},
     "output_type": "execute_result"
    }
   ],
   "source": [
    "s.__doc__"
   ]
  },
  {
   "cell_type": "code",
   "execution_count": 6,
   "id": "7a71eb0c",
   "metadata": {},
   "outputs": [
    {
     "data": {
      "text/plain": [
       "{'sequence': 'sequence_value'}"
      ]
     },
     "execution_count": 6,
     "metadata": {},
     "output_type": "execute_result"
    }
   ],
   "source": [
    "s.__dict__"
   ]
  },
  {
   "cell_type": "code",
   "execution_count": 7,
   "id": "84948eaf",
   "metadata": {},
   "outputs": [
    {
     "data": {
      "text/plain": [
       "{'sequence': 'sequence_value'}"
      ]
     },
     "execution_count": 7,
     "metadata": {},
     "output_type": "execute_result"
    }
   ],
   "source": [
    "vars(s)"
   ]
  },
  {
   "cell_type": "code",
   "execution_count": 8,
   "id": "d2fe9c71",
   "metadata": {},
   "outputs": [
    {
     "data": {
      "text/plain": [
       "'sequence_value'"
      ]
     },
     "execution_count": 8,
     "metadata": {},
     "output_type": "execute_result"
    }
   ],
   "source": [
    "s.sequence"
   ]
  },
  {
   "cell_type": "code",
   "execution_count": 9,
   "id": "cc39f45a",
   "metadata": {},
   "outputs": [
    {
     "data": {
      "text/plain": [
       "14"
      ]
     },
     "execution_count": 9,
     "metadata": {},
     "output_type": "execute_result"
    }
   ],
   "source": [
    "s.size"
   ]
  },
  {
   "cell_type": "code",
   "execution_count": 10,
   "id": "16e9b2ad",
   "metadata": {},
   "outputs": [
    {
     "data": {
      "text/plain": [
       "'Class Sequence'"
      ]
     },
     "execution_count": 10,
     "metadata": {},
     "output_type": "execute_result"
    }
   ],
   "source": [
    "s.__doc__"
   ]
  }
 ],
 "metadata": {
  "kernelspec": {
   "display_name": "Django Shell-Plus",
   "language": "python",
   "name": "django_extensions"
  },
  "language_info": {
   "codemirror_mode": {
    "name": "ipython",
    "version": 3
   },
   "file_extension": ".py",
   "mimetype": "text/x-python",
   "name": "python",
   "nbconvert_exporter": "python",
   "pygments_lexer": "ipython3",
   "version": "3.10.12"
  }
 },
 "nbformat": 4,
 "nbformat_minor": 5
}
