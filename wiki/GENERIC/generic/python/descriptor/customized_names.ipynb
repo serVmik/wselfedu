{
 "cells": [
  {
   "cell_type": "code",
   "execution_count": 1,
   "id": "13bfa39e",
   "metadata": {},
   "outputs": [],
   "source": [
    "import logging\n",
    "\n",
    "logging.basicConfig(level=logging.INFO)\n",
    "\n",
    "class LoggedAccess:\n",
    "\n",
    "    def __set_name__(self, owner, name):\n",
    "        self.public_name = name\n",
    "        self.private_name = '_' + name\n",
    "\n",
    "    def __get__(self, obj, objtype=None):\n",
    "        value = getattr(obj, self.private_name)\n",
    "        logging.info('Accessing %r giving %r', self.public_name, value)\n",
    "        return value\n",
    "\n",
    "    def __set__(self, obj, value):\n",
    "        logging.info('Updating %r to %r', self.public_name, value)\n",
    "        setattr(obj, self.private_name, value)"
   ]
  },
  {
   "cell_type": "code",
   "execution_count": 6,
   "id": "dd87027d",
   "metadata": {},
   "outputs": [],
   "source": [
    "class Person:\n",
    "    \"\"\"Class Person\"\"\"\n",
    "\n",
    "    name = LoggedAccess()                # First descriptor instance\n",
    "    age = LoggedAccess()                 # Second descriptor instance\n",
    "\n",
    "    def __init__(self, name, age):\n",
    "        self.name = name                 # Calls the first descriptor\n",
    "        self.age = age                   # Calls the second descriptor\n",
    "\n",
    "    def birthday(self):\n",
    "        self.age += 1"
   ]
  },
  {
   "cell_type": "code",
   "execution_count": 7,
   "id": "7c1505f5",
   "metadata": {},
   "outputs": [
    {
     "name": "stderr",
     "output_type": "stream",
     "text": [
      "INFO:root:Updating 'name' to 'Mary M'\n",
      "INFO:root:Updating 'age' to 30\n"
     ]
    }
   ],
   "source": [
    "mary = Person('Mary M', 30)"
   ]
  },
  {
   "cell_type": "code",
   "execution_count": 8,
   "id": "c3012ce7",
   "metadata": {},
   "outputs": [
    {
     "data": {
      "text/plain": [
       "mappingproxy({'__module__': '__main__',\n",
       "              '__doc__': 'Class Person',\n",
       "              'name': <__main__.LoggedAccess at 0x7f2ac821b910>,\n",
       "              'age': <__main__.LoggedAccess at 0x7f2ab6e5c490>,\n",
       "              '__init__': <function __main__.Person.__init__(self, name, age)>,\n",
       "              'birthday': <function __main__.Person.birthday(self)>,\n",
       "              '__dict__': <attribute '__dict__' of 'Person' objects>,\n",
       "              '__weakref__': <attribute '__weakref__' of 'Person' objects>})"
      ]
     },
     "execution_count": 8,
     "metadata": {},
     "output_type": "execute_result"
    }
   ],
   "source": [
    "vars(Person)"
   ]
  },
  {
   "cell_type": "code",
   "execution_count": 11,
   "id": "eaea6f4e",
   "metadata": {},
   "outputs": [
    {
     "data": {
      "text/plain": [
       "{'public_name': 'name', 'private_name': '_name'}"
      ]
     },
     "execution_count": 11,
     "metadata": {},
     "output_type": "execute_result"
    }
   ],
   "source": [
    "vars(vars(Person)['name'])"
   ]
  },
  {
   "cell_type": "code",
   "execution_count": 12,
   "id": "74ed1786",
   "metadata": {},
   "outputs": [
    {
     "data": {
      "text/plain": [
       "{'public_name': 'age', 'private_name': '_age'}"
      ]
     },
     "execution_count": 12,
     "metadata": {},
     "output_type": "execute_result"
    }
   ],
   "source": [
    "vars(vars(Person)['age'])"
   ]
  },
  {
   "cell_type": "code",
   "execution_count": 10,
   "id": "7cada2e9",
   "metadata": {},
   "outputs": [
    {
     "data": {
      "text/plain": [
       "{'_name': 'Mary M', '_age': 30}"
      ]
     },
     "execution_count": 10,
     "metadata": {},
     "output_type": "execute_result"
    }
   ],
   "source": [
    "vars(mary)"
   ]
  },
  {
   "cell_type": "code",
   "execution_count": 13,
   "id": "92259256",
   "metadata": {},
   "outputs": [
    {
     "name": "stderr",
     "output_type": "stream",
     "text": [
      "INFO:root:Accessing 'age' giving 30\n",
      "INFO:root:Updating 'age' to 31\n"
     ]
    }
   ],
   "source": [
    "mary.birthday()"
   ]
  },
  {
   "cell_type": "code",
   "execution_count": 14,
   "id": "68408e3e",
   "metadata": {},
   "outputs": [
    {
     "name": "stderr",
     "output_type": "stream",
     "text": [
      "INFO:root:Accessing 'name' giving 'Mary M'\n"
     ]
    },
    {
     "data": {
      "text/plain": [
       "'Mary M'"
      ]
     },
     "execution_count": 14,
     "metadata": {},
     "output_type": "execute_result"
    }
   ],
   "source": [
    "mary.name"
   ]
  },
  {
   "cell_type": "code",
   "execution_count": 15,
   "id": "86c4ad93",
   "metadata": {},
   "outputs": [
    {
     "name": "stderr",
     "output_type": "stream",
     "text": [
      "INFO:root:Accessing 'age' giving 31\n"
     ]
    },
    {
     "data": {
      "text/plain": [
       "31"
      ]
     },
     "execution_count": 15,
     "metadata": {},
     "output_type": "execute_result"
    }
   ],
   "source": [
    "mary.age"
   ]
  }
 ],
 "metadata": {
  "kernelspec": {
   "display_name": "Django Shell-Plus",
   "language": "python",
   "name": "django_extensions"
  },
  "language_info": {
   "codemirror_mode": {
    "name": "ipython",
    "version": 3
   },
   "file_extension": ".py",
   "mimetype": "text/x-python",
   "name": "python",
   "nbconvert_exporter": "python",
   "pygments_lexer": "ipython3",
   "version": "3.10.12"
  }
 },
 "nbformat": 4,
 "nbformat_minor": 5
}
