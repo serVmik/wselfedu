{
 "cells": [
  {
   "cell_type": "markdown",
   "id": "9f50bcdb",
   "metadata": {},
   "source": [
    "view.py"
   ]
  },
  {
   "cell_type": "code",
   "execution_count": 1,
   "id": "682907ca",
   "metadata": {},
   "outputs": [],
   "source": [
    "from random import choice\n",
    "\n",
    "from english.models import WordModel"
   ]
  },
  {
   "cell_type": "code",
   "execution_count": 2,
   "id": "0da54eae",
   "metadata": {},
   "outputs": [],
   "source": [
    "from random import shuffle\n",
    "\n",
    "from django.contrib.auth import get_user_model\n",
    "\n",
    "User = get_user_model()\n",
    "\n",
    "\n",
    "def get_random_sequence_language_keys() -> list[str]:\n",
    "    language_keys = ['words_eng', 'words_rus']\n",
    "    shuffle(language_keys)\n",
    "    return language_keys"
   ]
  },
  {
   "cell_type": "code",
   "execution_count": 3,
   "id": "36fa7d13",
   "metadata": {},
   "outputs": [
    {
     "data": {
      "text/plain": [
       "<QuerySet [{'id': 1, 'user_id': 1, 'words_eng': 'greetings', 'words_rus': 'приветствие', 'source_id': 1, 'category_id': 2, 'word_count': 'NC', 'lesson_id': 1, 'created_at': datetime.datetime(2023, 10, 20, 0, 0, tzinfo=datetime.timezone.utc), 'updated_at': datetime.datetime(2023, 11, 19, 0, 0, tzinfo=datetime.timezone.utc)}, {'id': 4, 'user_id': 1, 'words_eng': 'people', 'words_rus': 'люди', 'source_id': 1, 'category_id': 2, 'word_count': 'NC', 'lesson_id': 1, 'created_at': datetime.datetime(2023, 10, 20, 0, 0, tzinfo=datetime.timezone.utc), 'updated_at': datetime.datetime(2023, 11, 19, 0, 0, tzinfo=datetime.timezone.utc)}, {'id': 5, 'user_id': 1, 'words_eng': 'name', 'words_rus': 'имя', 'source_id': 1, 'category_id': 2, 'word_count': 'NC', 'lesson_id': 1, 'created_at': datetime.datetime(2023, 10, 20, 0, 0, tzinfo=datetime.timezone.utc), 'updated_at': datetime.datetime(2023, 11, 19, 0, 0, tzinfo=datetime.timezone.utc)}, {'id': 9, 'user_id': 1, 'words_eng': 'introductions', 'words_rus': 'знакомства', 'source_id': 1, 'category_id': 2, 'word_count': 'NC', 'lesson_id': 1, 'created_at': datetime.datetime(2023, 10, 20, 0, 0, tzinfo=datetime.timezone.utc), 'updated_at': datetime.datetime(2023, 11, 19, 0, 0, tzinfo=datetime.timezone.utc)}, {'id': 20, 'user_id': 1, 'words_eng': 'introduce', 'words_rus': 'представлять кого-то кому-то', 'source_id': 1, 'category_id': 2, 'word_count': 'NC', 'lesson_id': 1, 'created_at': datetime.datetime(2023, 10, 20, 0, 0, tzinfo=datetime.timezone.utc), 'updated_at': datetime.datetime(2023, 11, 19, 0, 0, tzinfo=datetime.timezone.utc)}]>"
      ]
     },
     "execution_count": 3,
     "metadata": {},
     "output_type": "execute_result"
    }
   ],
   "source": [
    "words: list[dict] = WordModel.objects.filter(\n",
    "            category_id=2,\n",
    "            source_id=1,\n",
    "        ).values()\n",
    "words"
   ]
  },
  {
   "cell_type": "code",
   "execution_count": 14,
   "id": "b4fd996c",
   "metadata": {},
   "outputs": [
    {
     "data": {
      "text/plain": [
       "{'id': 20,\n",
       " 'user_id': 1,\n",
       " 'words_eng': 'introduce',\n",
       " 'words_rus': 'представлять кого-то кому-то',\n",
       " 'source_id': 1,\n",
       " 'category_id': 2,\n",
       " 'word_count': 'NC',\n",
       " 'lesson_id': 1,\n",
       " 'created_at': datetime.datetime(2023, 10, 20, 0, 0, tzinfo=datetime.timezone.utc),\n",
       " 'updated_at': datetime.datetime(2023, 11, 19, 0, 0, tzinfo=datetime.timezone.utc)}"
      ]
     },
     "execution_count": 14,
     "metadata": {},
     "output_type": "execute_result"
    }
   ],
   "source": [
    "selected_word = choice(words)\n",
    "selected_word"
   ]
  },
  {
   "cell_type": "code",
   "execution_count": 15,
   "id": "1144ffdd",
   "metadata": {},
   "outputs": [
    {
     "data": {
      "text/plain": [
       "dict"
      ]
     },
     "execution_count": 15,
     "metadata": {},
     "output_type": "execute_result"
    }
   ],
   "source": [
    "word_id = selected_word['id']\n",
    "type(selected_word)"
   ]
  },
  {
   "cell_type": "code",
   "execution_count": 16,
   "id": "86772d75",
   "metadata": {},
   "outputs": [],
   "source": [
    "question_key, answer_key = get_random_sequence_language_keys()"
   ]
  },
  {
   "cell_type": "code",
   "execution_count": 17,
   "id": "b0f472f2",
   "metadata": {},
   "outputs": [
    {
     "data": {
      "text/plain": [
       "'представлять кого-то кому-то'"
      ]
     },
     "execution_count": 17,
     "metadata": {},
     "output_type": "execute_result"
    }
   ],
   "source": [
    "question = selected_word.get(question_key)\n",
    "question"
   ]
  },
  {
   "cell_type": "code",
   "execution_count": 18,
   "id": "21617da5",
   "metadata": {},
   "outputs": [
    {
     "data": {
      "text/plain": [
       "20"
      ]
     },
     "execution_count": 18,
     "metadata": {},
     "output_type": "execute_result"
    }
   ],
   "source": [
    "word_id = selected_word['id']\n",
    "word_id"
   ]
  }
 ],
 "metadata": {
  "kernelspec": {
   "display_name": "Django Shell-Plus",
   "language": "python",
   "name": "django_extensions"
  },
  "language_info": {
   "codemirror_mode": {
    "name": "ipython",
    "version": 3
   },
   "file_extension": ".py",
   "mimetype": "text/x-python",
   "name": "python",
   "nbconvert_exporter": "python",
   "pygments_lexer": "ipython3",
   "version": "3.10.12"
  }
 },
 "nbformat": 4,
 "nbformat_minor": 5
}
