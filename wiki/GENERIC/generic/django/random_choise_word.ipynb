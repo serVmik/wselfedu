{
 "cells": [
  {
   "cell_type": "code",
   "execution_count": 87,
   "id": "bca33bb0",
   "metadata": {},
   "outputs": [],
   "source": [
    "from english.models import WordModel"
   ]
  },
  {
   "cell_type": "code",
   "execution_count": 88,
   "id": "bbec8dfd",
   "metadata": {},
   "outputs": [
    {
     "data": {
      "text/plain": [
       "<QuerySet [<WordModel: WordModel object (359)>, <WordModel: WordModel object (175)>, <WordModel: WordModel object (380)>, <WordModel: WordModel object (310)>, <WordModel: WordModel object (319)>, <WordModel: WordModel object (74)>, <WordModel: WordModel object (227)>, <WordModel: WordModel object (216)>, <WordModel: WordModel object (184)>, <WordModel: WordModel object (109)>, <WordModel: WordModel object (61)>, <WordModel: WordModel object (223)>, <WordModel: WordModel object (281)>, <WordModel: WordModel object (30)>, <WordModel: WordModel object (259)>, <WordModel: WordModel object (248)>, <WordModel: WordModel object (145)>, <WordModel: WordModel object (166)>, <WordModel: WordModel object (114)>, <WordModel: WordModel object (199)>, '...(remaining elements truncated)...']>"
      ]
     },
     "execution_count": 88,
     "metadata": {},
     "output_type": "execute_result"
    }
   ],
   "source": [
    "word = WordModel.objects.order_by('?')\n",
    "word"
   ]
  },
  {
   "cell_type": "code",
   "execution_count": 89,
   "id": "d7c94eae",
   "metadata": {},
   "outputs": [
    {
     "data": {
      "text/plain": [
       "<WordModel: WordModel object (190)>"
      ]
     },
     "execution_count": 89,
     "metadata": {},
     "output_type": "execute_result"
    }
   ],
   "source": [
    "word = WordModel.objects.order_by('?').last()\n",
    "word"
   ]
  },
  {
   "cell_type": "code",
   "execution_count": 90,
   "id": "0c3d9bc2",
   "metadata": {},
   "outputs": [],
   "source": [
    "user_filter = {\n",
    "    'category_id': 8,\n",
    "}"
   ]
  },
  {
   "cell_type": "code",
   "execution_count": 91,
   "id": "a608ee06",
   "metadata": {},
   "outputs": [
    {
     "data": {
      "text/plain": [
       "302"
      ]
     },
     "execution_count": 91,
     "metadata": {},
     "output_type": "execute_result"
    }
   ],
   "source": [
    "word = WordModel.objects.filter(**user_filter).count()\n",
    "word"
   ]
  },
  {
   "cell_type": "code",
   "execution_count": 92,
   "id": "4aaf804f",
   "metadata": {},
   "outputs": [],
   "source": [
    "user_filter.update({\n",
    "    'source_id': 4,\n",
    "})"
   ]
  },
  {
   "cell_type": "code",
   "execution_count": 98,
   "id": "992c74d5",
   "metadata": {},
   "outputs": [
    {
     "data": {
      "text/plain": [
       "'make sure it contains'"
      ]
     },
     "execution_count": 98,
     "metadata": {},
     "output_type": "execute_result"
    }
   ],
   "source": [
    "word = WordModel.objects.filter(**user_filter).order_by('?').last()\n",
    "word.words_eng"
   ]
  }
 ],
 "metadata": {
  "kernelspec": {
   "display_name": "Django Shell-Plus",
   "language": "python",
   "name": "django_extensions"
  },
  "language_info": {
   "codemirror_mode": {
    "name": "ipython",
    "version": 3
   },
   "file_extension": ".py",
   "mimetype": "text/x-python",
   "name": "python",
   "nbconvert_exporter": "python",
   "pygments_lexer": "ipython3",
   "version": "3.10.12"
  }
 },
 "nbformat": 4,
 "nbformat_minor": 5
}
