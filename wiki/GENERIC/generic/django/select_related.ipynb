{
 "cells": [
  {
   "cell_type": "code",
   "execution_count": 1,
   "id": "3a38fd84",
   "metadata": {},
   "outputs": [],
   "source": [
    "from english.models import WordModel, SourceModel\n",
    "from django.db import connection"
   ]
  },
  {
   "cell_type": "code",
   "execution_count": null,
   "id": "a25f320b",
   "metadata": {},
   "outputs": [],
   "source": [
    "# Первое обращение к БД\n",
    "w = WordModel.objects.get(id=5)\n",
    "# Второе обращение к БД\n",
    "w.source"
   ]
  },
  {
   "cell_type": "code",
   "execution_count": null,
   "id": "4a0ef04f",
   "metadata": {},
   "outputs": [],
   "source": [
    "connection.queries"
   ]
  },
  {
   "cell_type": "code",
   "execution_count": 2,
   "id": "1f044a93",
   "metadata": {},
   "outputs": [
    {
     "data": {
      "text/plain": [
       "<SourceModel: Учебник АЯ за 6 кл.>"
      ]
     },
     "execution_count": 2,
     "metadata": {},
     "output_type": "execute_result"
    }
   ],
   "source": [
    "# Единственное обращение к БД\n",
    "w = WordModel.objects.select_related('source').get(id=5)\n",
    "w.source"
   ]
  },
  {
   "cell_type": "code",
   "execution_count": null,
   "id": "f49a3009",
   "metadata": {},
   "outputs": [],
   "source": [
    "connection.queries"
   ]
  },
  {
   "cell_type": "code",
   "execution_count": 3,
   "id": "59f9b1a7",
   "metadata": {},
   "outputs": [
    {
     "data": {
      "text/plain": [
       "<CategoryModel: Greetings>"
      ]
     },
     "execution_count": 3,
     "metadata": {},
     "output_type": "execute_result"
    }
   ],
   "source": [
    "w.category"
   ]
  },
  {
   "cell_type": "code",
   "execution_count": 5,
   "id": "b40a1093",
   "metadata": {},
   "outputs": [
    {
     "data": {
      "text/plain": [
       "<SourceModel: Учебник АЯ за 6 кл.>"
      ]
     },
     "execution_count": 5,
     "metadata": {},
     "output_type": "execute_result"
    }
   ],
   "source": [
    "w.source"
   ]
  },
  {
   "cell_type": "code",
   "execution_count": null,
   "id": "4efa8fb3",
   "metadata": {},
   "outputs": [],
   "source": [
    "w."
   ]
  }
 ],
 "metadata": {
  "kernelspec": {
   "display_name": "Django Shell-Plus",
   "language": "python",
   "name": "django_extensions"
  },
  "language_info": {
   "codemirror_mode": {
    "name": "ipython",
    "version": 3
   },
   "file_extension": ".py",
   "mimetype": "text/x-python",
   "name": "python",
   "nbconvert_exporter": "python",
   "pygments_lexer": "ipython3",
   "version": "3.10.12"
  }
 },
 "nbformat": 4,
 "nbformat_minor": 5
}
