{
 "cells": [
  {
   "cell_type": "code",
   "execution_count": null,
   "id": "791ed51f",
   "metadata": {},
   "outputs": [],
   "source": [
    "from english.models import WordModel, SourceModel\n",
    "from django.db import connection"
   ]
  },
  {
   "cell_type": "code",
   "execution_count": null,
   "id": "139c98da",
   "metadata": {},
   "outputs": [],
   "source": [
    "connection.queries"
   ]
  },
  {
   "cell_type": "code",
   "execution_count": null,
   "id": "3f4b690f",
   "metadata": {},
   "outputs": [],
   "source": [
    "WordModel.objects.filter(pk__lte=4)\n",
    "# Возвратит QuerySet - список моделей"
   ]
  },
  {
   "cell_type": "markdown",
   "id": "3fe17ee2",
   "metadata": {},
   "source": [
    "### Отношение \"ForeignKey\""
   ]
  },
  {
   "cell_type": "code",
   "execution_count": null,
   "id": "574d2866",
   "metadata": {},
   "outputs": [],
   "source": [
    "\"\"\"\n",
    "class WordModel(models.Model):\n",
    "    ...\n",
    "    source = models.ForeignKey(\n",
    "        SourceModel,\n",
    "        ...,\n",
    "        related_name='get_source',\n",
    "        ...,\n",
    "    )\n",
    "\"\"\""
   ]
  },
  {
   "cell_type": "code",
   "execution_count": null,
   "id": "44194b67",
   "metadata": {},
   "outputs": [],
   "source": [
    "w = WordModel.objects.get(pk=3)\n",
    "# Возвратит модель\n",
    "w"
   ]
  },
  {
   "cell_type": "code",
   "execution_count": null,
   "id": "4b619f44",
   "metadata": {},
   "outputs": [],
   "source": [
    "w.words_rus\n",
    "# Возратит значение поля э\"words_rus\""
   ]
  },
  {
   "cell_type": "code",
   "execution_count": null,
   "id": "dbea0578",
   "metadata": {},
   "outputs": [],
   "source": [
    "w.source\n",
    "# Вовратит модель \"SourceModel\", так как \n",
    "# source = models.ForeignKey(SourceModel, ..., related_name='get_source')"
   ]
  },
  {
   "cell_type": "code",
   "execution_count": null,
   "id": "932a9874",
   "metadata": {},
   "outputs": [],
   "source": [
    "w.source.name\n",
    "# Возвратит значение поля \"name\" модели \"SourceModel\""
   ]
  },
  {
   "cell_type": "markdown",
   "id": "3eadac9b",
   "metadata": {},
   "source": [
    "### Отношение \"ManyToManyField\""
   ]
  },
  {
   "cell_type": "code",
   "execution_count": null,
   "id": "8fbb7182",
   "metadata": {},
   "outputs": [],
   "source": [
    "# Возратит ссылку на ...\n",
    "w.knowledge_assessment"
   ]
  },
  {
   "cell_type": "code",
   "execution_count": null,
   "id": "f7a4b1fc",
   "metadata": {},
   "outputs": [],
   "source": [
    "s = SourceModel.objects.get(pk=1)\n",
    "s"
   ]
  },
  {
   "cell_type": "code",
   "execution_count": null,
   "id": "8b7b62cf",
   "metadata": {},
   "outputs": [],
   "source": [
    "s.wordmodel_set"
   ]
  },
  {
   "cell_type": "code",
   "execution_count": null,
   "id": "a8fe8de0",
   "metadata": {},
   "outputs": [],
   "source": [
    "s.wordmodel_set.all()"
   ]
  },
  {
   "cell_type": "code",
   "execution_count": null,
   "id": "3e8aaa6b",
   "metadata": {},
   "outputs": [],
   "source": [
    "\"\"\"\n",
    "class WordModel(models.Model):\n",
    "    ...\n",
    "    source = models.ForeignKey(\n",
    "        SourceModel,\n",
    "        ...,\n",
    "        related_name='get_source',\n",
    "        ...,\n",
    "    )\n",
    "\"\"\"\n",
    "s.get_source\n",
    "s    "
   ]
  }
 ],
 "metadata": {
  "kernelspec": {
   "display_name": "Django Shell-Plus",
   "language": "python",
   "name": "django_extensions"
  },
  "language_info": {
   "codemirror_mode": {
    "name": "ipython",
    "version": 3
   },
   "file_extension": ".py",
   "mimetype": "text/x-python",
   "name": "python",
   "nbconvert_exporter": "python",
   "pygments_lexer": "ipython3",
   "version": "3.10.12"
  }
 },
 "nbformat": 4,
 "nbformat_minor": 5
}
