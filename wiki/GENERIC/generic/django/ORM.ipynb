{
 "cells": [
  {
   "cell_type": "code",
   "execution_count": 1,
   "id": "791ed51f",
   "metadata": {},
   "outputs": [],
   "source": [
    "from english.models import WordModel, SourceModel\n",
    "from django.db import connection"
   ]
  },
  {
   "cell_type": "code",
   "execution_count": null,
   "id": "139c98da",
   "metadata": {},
   "outputs": [],
   "source": [
    "connection.queries"
   ]
  },
  {
   "cell_type": "code",
   "execution_count": null,
   "id": "3b9f74b2",
   "metadata": {},
   "outputs": [],
   "source": [
    "WordModel.objects.all()"
   ]
  },
  {
   "cell_type": "code",
   "execution_count": null,
   "id": "3c5c9a8c",
   "metadata": {},
   "outputs": [],
   "source": [
    "WordModel.objects.all()[:3]"
   ]
  },
  {
   "cell_type": "code",
   "execution_count": null,
   "id": "30cc843a",
   "metadata": {},
   "outputs": [],
   "source": [
    "WordModel.objects.order_by('pk')"
   ]
  },
  {
   "cell_type": "code",
   "execution_count": null,
   "id": "b73f7aee",
   "metadata": {},
   "outputs": [],
   "source": [
    "WordModel.objects.all().reverse()"
   ]
  },
  {
   "cell_type": "code",
   "execution_count": null,
   "id": "3f4b690f",
   "metadata": {},
   "outputs": [],
   "source": [
    "WordModel.objects.filter(pk__lte=4)\n",
    "# Возвратит QuerySet - список моделей"
   ]
  },
  {
   "cell_type": "code",
   "execution_count": null,
   "id": "0b42b615",
   "metadata": {},
   "outputs": [],
   "source": [
    "WordModel.objects.get(pk=3)\n",
    "# Возвратит модель"
   ]
  },
  {
   "cell_type": "code",
   "execution_count": null,
   "id": "44194b67",
   "metadata": {},
   "outputs": [],
   "source": [
    "w = WordModel.objects.get(pk=3)\n",
    "w"
   ]
  },
  {
   "cell_type": "code",
   "execution_count": null,
   "id": "4b619f44",
   "metadata": {},
   "outputs": [],
   "source": [
    "w.words_rus"
   ]
  },
  {
   "cell_type": "code",
   "execution_count": null,
   "id": "932a9874",
   "metadata": {},
   "outputs": [],
   "source": [
    "w.source.name"
   ]
  },
  {
   "cell_type": "code",
   "execution_count": null,
   "id": "8fbb7182",
   "metadata": {},
   "outputs": [],
   "source": [
    "w.knowledge_assessment"
   ]
  },
  {
   "cell_type": "code",
   "execution_count": 2,
   "id": "f7a4b1fc",
   "metadata": {},
   "outputs": [
    {
     "data": {
      "text/plain": [
       "<SourceModel: Учебник АЯ за 6 кл.>"
      ]
     },
     "execution_count": 2,
     "metadata": {},
     "output_type": "execute_result"
    }
   ],
   "source": [
    "s = SourceModel.objects.get(pk=1)\n",
    "s"
   ]
  },
  {
   "cell_type": "code",
   "execution_count": null,
   "id": "8b7b62cf",
   "metadata": {},
   "outputs": [],
   "source": [
    "s.wordmodel_set"
   ]
  },
  {
   "cell_type": "code",
   "execution_count": null,
   "id": "a8fe8de0",
   "metadata": {},
   "outputs": [],
   "source": [
    "s.wordmodel_set.all()"
   ]
  },
  {
   "cell_type": "code",
   "execution_count": 3,
   "id": "3e8aaa6b",
   "metadata": {},
   "outputs": [
    {
     "data": {
      "text/plain": [
       "<SourceModel: Учебник АЯ за 6 кл.>"
      ]
     },
     "execution_count": 3,
     "metadata": {},
     "output_type": "execute_result"
    }
   ],
   "source": [
    "\"\"\"\n",
    "class WordModel(models.Model):\n",
    "    ...\n",
    "    source = models.ForeignKey(\n",
    "        SourceModel,\n",
    "        ...,\n",
    "        related_name='get_source',\n",
    "        ...,\n",
    "    )\n",
    "\"\"\"\n",
    "s.get_source\n",
    "s    "
   ]
  }
 ],
 "metadata": {
  "kernelspec": {
   "display_name": "Django Shell-Plus",
   "language": "python",
   "name": "django_extensions"
  },
  "language_info": {
   "codemirror_mode": {
    "name": "ipython",
    "version": 3
   },
   "file_extension": ".py",
   "mimetype": "text/x-python",
   "name": "python",
   "nbconvert_exporter": "python",
   "pygments_lexer": "ipython3",
   "version": "3.10.12"
  }
 },
 "nbformat": 4,
 "nbformat_minor": 5
}
