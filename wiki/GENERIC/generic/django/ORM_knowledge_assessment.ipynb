{
 "cells": [
  {
   "cell_type": "code",
   "execution_count": 1,
   "id": "b1bd4259",
   "metadata": {},
   "outputs": [],
   "source": [
    "from english.models import WordModel, WordUserKnowledgeRelation"
   ]
  },
  {
   "cell_type": "code",
   "execution_count": 5,
   "id": "28511d43",
   "metadata": {},
   "outputs": [],
   "source": [
    "user_id = 1\n",
    "category_id = 8\n",
    "source_id = 7"
   ]
  },
  {
   "cell_type": "code",
   "execution_count": 6,
   "id": "b5a7b25c",
   "metadata": {},
   "outputs": [
    {
     "data": {
      "text/plain": [
       "<QuerySet [<WordModel: Access the data and log the lookup>, <WordModel: Accessing 'age' giving 30>, <WordModel: Besides>, <WordModel: Besides showing how>, <WordModel: Closing thoughts>, <WordModel: Descriptor HowTo Guide>, <WordModel: Descriptor instance>, <WordModel: Descriptor lookup>, <WordModel: Descriptors invert that relationship>, <WordModel: For retrieving constants>, <WordModel: If a descriptor is accessed indirectly with>, <WordModel: Instead>, <WordModel: Instead, the value 10 is computed on demand.>, <WordModel: It is how>, <WordModel: Logged Access>, <WordModel: Managed attribute>, <WordModel: Normal attribute lookup>, <WordModel: One major issue with this example is that>, <WordModel: Regular attribute lookup>, <WordModel: Regular attribute lookup isn't logged>, '...(remaining elements truncated)...']>"
      ]
     },
     "execution_count": 6,
     "metadata": {},
     "output_type": "execute_result"
    }
   ],
   "source": [
    "words = WordModel.objects.filter(\n",
    "    category_id=category_id,\n",
    "    source_id=source_id,\n",
    ")\n",
    "words"
   ]
  },
  {
   "cell_type": "code",
   "execution_count": null,
   "id": "01ff831f",
   "metadata": {},
   "outputs": [],
   "source": [
    "    user_knowledge_words_pk =  WordUserKnowledgeRelation.objects.filter(\n",
    "        user=UserModel.objects.get(pk=user_id),\n",
    "    ).filter(\n",
    "        knowledge_assessment__lte=0\n",
    "    ).values_list(\"word_id\", flat=True)\n",
    "    \n",
    "    user_knowledge_words_pk"
   ]
  },
  {
   "cell_type": "code",
   "execution_count": null,
   "id": "c581ee57",
   "metadata": {},
   "outputs": [],
   "source": [
    "    for word_id in user_knowledge_words_pk:\n",
    "        print(word_id)"
   ]
  },
  {
   "cell_type": "code",
   "execution_count": null,
   "id": "031c2853",
   "metadata": {},
   "outputs": [],
   "source": [
    "    words_id_for_choice = []\n",
    "    for word_bj in words:\n",
    "        if word_bj.pk in user_knowledge_words_pk:\n",
    "            words_id_for_choice.append(word_bj)\n",
    "    \n",
    "    words_id_for_choice"
   ]
  }
 ],
 "metadata": {
  "kernelspec": {
   "display_name": "Django Shell-Plus",
   "language": "python",
   "name": "django_extensions"
  },
  "language_info": {
   "codemirror_mode": {
    "name": "ipython",
    "version": 3
   },
   "file_extension": ".py",
   "mimetype": "text/x-python",
   "name": "python",
   "nbconvert_exporter": "python",
   "pygments_lexer": "ipython3",
   "version": "3.10.12"
  }
 },
 "nbformat": 4,
 "nbformat_minor": 5
}
