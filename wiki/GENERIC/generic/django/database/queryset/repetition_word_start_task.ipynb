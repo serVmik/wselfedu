{
 "cells": [
  {
   "cell_type": "markdown",
   "id": "577bf290",
   "metadata": {},
   "source": [
    "## Тестирую запросы в БД из view для начала управжнения \"Изучаем слова\""
   ]
  },
  {
   "cell_type": "markdown",
   "id": "7018aa13",
   "metadata": {},
   "source": [
    "### #View"
   ]
  },
  {
   "cell_type": "code",
   "execution_count": 1,
   "id": "a03b87e1",
   "metadata": {},
   "outputs": [],
   "source": [
    "from english.models import WordModel"
   ]
  },
  {
   "cell_type": "code",
   "execution_count": 2,
   "id": "f427051d",
   "metadata": {},
   "outputs": [],
   "source": [
    "user_id = 1\n",
    "task_status = 'user_id'\n",
    "category_id = None\n",
    "source_id = None\n",
    "words_filter = dict()"
   ]
  },
  {
   "cell_type": "code",
   "execution_count": 3,
   "id": "cc34303d",
   "metadata": {},
   "outputs": [],
   "source": [
    "if category_id:\n",
    "    words_filter['category'] = category_id\n",
    "if source_id:\n",
    "    words_filter['source'] = source_id"
   ]
  },
  {
   "cell_type": "code",
   "execution_count": 4,
   "id": "8bd27932",
   "metadata": {},
   "outputs": [
    {
     "data": {
      "text/plain": [
       "<QuerySet [<WordModel: greetings>, <WordModel: what are the>, <WordModel: what>, <WordModel: people>, <WordModel: name>, <WordModel: ask>, <WordModel: answer>, <WordModel: classmates>, <WordModel: introductions>, <WordModel: look at the>, <WordModel: which>, <WordModel: pronouns>, <WordModel: singular>, <WordModel: plural>, <WordModel: demonstrative pronouns>, <WordModel: this>, <WordModel: these>, <WordModel: that>, <WordModel: those>, <WordModel: introduce>, '...(remaining elements truncated)...']>"
      ]
     },
     "execution_count": 4,
     "metadata": {},
     "output_type": "execute_result"
    }
   ],
   "source": [
    "queryset = WordModel.objects.all().filter(**words_filter)\n",
    "queryset"
   ]
  }
 ],
 "metadata": {
  "kernelspec": {
   "display_name": "Django Shell-Plus",
   "language": "python",
   "name": "django_extensions"
  },
  "language_info": {
   "codemirror_mode": {
    "name": "ipython",
    "version": 3
   },
   "file_extension": ".py",
   "mimetype": "text/x-python",
   "name": "python",
   "nbconvert_exporter": "python",
   "pygments_lexer": "ipython3",
   "version": "3.10.12"
  }
 },
 "nbformat": 4,
 "nbformat_minor": 5
}
