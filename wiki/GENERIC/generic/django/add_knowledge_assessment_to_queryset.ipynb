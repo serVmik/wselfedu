{
 "cells": [
  {
   "cell_type": "code",
   "execution_count": 1,
   "id": "650b0422",
   "metadata": {},
   "outputs": [],
   "source": [
    "from english.models.words import WordModel, WordUserKnowledgeRelation"
   ]
  },
  {
   "cell_type": "code",
   "execution_count": 5,
   "id": "0f90dc23",
   "metadata": {},
   "outputs": [
    {
     "data": {
      "text/plain": [
       "<QuerySet [<WordUserKnowledgeRelation: WordUserKnowledgeRelation object (1)>, <WordUserKnowledgeRelation: WordUserKnowledgeRelation object (2)>, <WordUserKnowledgeRelation: WordUserKnowledgeRelation object (3)>, <WordUserKnowledgeRelation: WordUserKnowledgeRelation object (4)>, <WordUserKnowledgeRelation: WordUserKnowledgeRelation object (6)>, <WordUserKnowledgeRelation: WordUserKnowledgeRelation object (7)>, <WordUserKnowledgeRelation: WordUserKnowledgeRelation object (8)>, <WordUserKnowledgeRelation: WordUserKnowledgeRelation object (9)>, <WordUserKnowledgeRelation: WordUserKnowledgeRelation object (10)>, <WordUserKnowledgeRelation: WordUserKnowledgeRelation object (11)>, <WordUserKnowledgeRelation: WordUserKnowledgeRelation object (12)>, <WordUserKnowledgeRelation: WordUserKnowledgeRelation object (13)>, <WordUserKnowledgeRelation: WordUserKnowledgeRelation object (14)>, <WordUserKnowledgeRelation: WordUserKnowledgeRelation object (15)>, <WordUserKnowledgeRelation: WordUserKnowledgeRelation object (16)>, <WordUserKnowledgeRelation: WordUserKnowledgeRelation object (17)>, <WordUserKnowledgeRelation: WordUserKnowledgeRelation object (18)>, <WordUserKnowledgeRelation: WordUserKnowledgeRelation object (19)>, <WordUserKnowledgeRelation: WordUserKnowledgeRelation object (20)>, <WordUserKnowledgeRelation: WordUserKnowledgeRelation object (21)>, '...(remaining elements truncated)...']>"
      ]
     },
     "execution_count": 5,
     "metadata": {},
     "output_type": "execute_result"
    }
   ],
   "source": [
    "words_user = WordUserKnowledgeRelation.objects.filter(user=1)\n",
    "words_user"
   ]
  },
  {
   "cell_type": "code",
   "execution_count": null,
   "id": "72f0ef78",
   "metadata": {},
   "outputs": [],
   "source": [
    "knowledge_assessment = WordUserKnowledgeRelation.objects.all().values()\n",
    "knowledge_assessment"
   ]
  },
  {
   "cell_type": "code",
   "execution_count": null,
   "id": "989c13ae",
   "metadata": {},
   "outputs": [],
   "source": [
    "for word, assessment in words, knowledge_assessment:\n",
    "    word.update(\n",
    "        assessment.get(word.pk)\n",
    "    )"
   ]
  },
  {
   "cell_type": "code",
   "execution_count": null,
   "id": "2457711a",
   "metadata": {},
   "outputs": [],
   "source": [
    "for x, y in ([1, 2, 3], ['q', 'w', 'e']):\n",
    "    print('%r = %r', x, y)"
   ]
  }
 ],
 "metadata": {
  "kernelspec": {
   "display_name": "Django Shell-Plus",
   "language": "python",
   "name": "django_extensions"
  },
  "language_info": {
   "codemirror_mode": {
    "name": "ipython",
    "version": 3
   },
   "file_extension": ".py",
   "mimetype": "text/x-python",
   "name": "python",
   "nbconvert_exporter": "python",
   "pygments_lexer": "ipython3",
   "version": "3.10.12"
  }
 },
 "nbformat": 4,
 "nbformat_minor": 5
}
