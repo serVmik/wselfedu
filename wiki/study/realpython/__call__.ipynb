{
 "cells": [
  {
   "cell_type": "code",
   "execution_count": null,
   "id": "26ecbd9b",
   "metadata": {},
   "outputs": [],
   "source": [
    "https://realpython.com/python-callable-instances/#:~:text=__call__()%20is%20to%20turn,use%20your%20instances%20as%20functions"
   ]
  },
  {
   "cell_type": "code",
   "execution_count": 2,
   "id": "8de1495e",
   "metadata": {},
   "outputs": [],
   "source": [
    "class Counter:\n",
    "    def __init__(self):\n",
    "        self.counter = 0\n",
    "        \n",
    "    def increment(self):\n",
    "        self.counter += 1\n",
    "        \n",
    "    def __call__(self):\n",
    "        self.increment()"
   ]
  },
  {
   "cell_type": "code",
   "execution_count": null,
   "id": "15a016c4",
   "metadata": {},
   "outputs": [],
   "source": [
    "class PowerFactory:\n",
    "    def __init__(self, exponent=2):\n",
    "        self.exponent = exponent\n",
    "        \n",
    "    def __call__(self, base):\n",
    "        return base**self.exponent\n",
    "        "
   ]
  },
  {
   "cell_type": "code",
   "execution_count": null,
   "id": "c942d2a4",
   "metadata": {},
   "outputs": [],
   "source": [
    "def cumulative_average():\n",
    "    numbers = []\n",
    "    def average(number):\n",
    "        numbers.append(number)\n",
    "        return sum(numbers) / len(numbers)\n",
    "    return average"
   ]
  },
  {
   "cell_type": "code",
   "execution_count": null,
   "id": "9b957285",
   "metadata": {},
   "outputs": [],
   "source": [
    "class CumulativeAverage:\n",
    "    def __init__(self):\n",
    "        self.numbers = []\n",
    "        \n",
    "    def __call__(self, number):\n",
    "        self.numbers.append(number)\n",
    "        return sum(self.numbers) / len(self.numbers)"
   ]
  },
  {
   "cell_type": "code",
   "execution_count": null,
   "id": "59d5da0c",
   "metadata": {},
   "outputs": [],
   "source": [
    "class CumulativeAverageMethod:\n",
    "    def __init__(self):\n",
    "        self.numbers = []\n",
    "    \n",
    "    def get_avarage(self, number):\n",
    "        self.numbers.append(number)\n",
    "        return sum(self.numbers) / len(self.numbers)"
   ]
  },
  {
   "cell_type": "code",
   "execution_count": null,
   "id": "fa369852",
   "metadata": {},
   "outputs": [],
   "source": [
    "class Factorial:\n",
    "    def __init__(self):\n",
    "        self.cache = {0: 1, 1: 1}\n",
    "\n",
    "    def __call__(self, number):\n",
    "        if number not in self.cache:\n",
    "            self.cache[number] = number * self(number - 1)\n",
    "        return self.cache[number]"
   ]
  },
  {
   "cell_type": "code",
   "execution_count": null,
   "id": "367e7ebf",
   "metadata": {},
   "outputs": [],
   "source": [
    "class Logger:\n",
    "    def __init__(self, filename):\n",
    "        self.filename = filename\n",
    "\n",
    "    def __call__(self, message):\n",
    "        with open(self.filename, mode=\"a\", encoding=\"utf-8\") as log_file:\n",
    "            log_file.write(message + \"\\n\")"
   ]
  },
  {
   "cell_type": "code",
   "execution_count": null,
   "id": "cb2aef0d",
   "metadata": {},
   "outputs": [],
   "source": [
    "import time\n",
    "\n",
    "class ExecutionTimer:\n",
    "    def __init__(self, func):\n",
    "        self.func = func\n",
    "\n",
    "    def __call__(self, *args, **kwargs):\n",
    "        start = time.perf_counter()\n",
    "        result = self.func(*args, **kwargs)\n",
    "        end = time.perf_counter()\n",
    "        print(f\"{self.func.__name__}() took {(end - start) * 1000:.4f} ms\")\n",
    "        return result"
   ]
  },
  {
   "cell_type": "code",
   "execution_count": null,
   "id": "bdaef4d8",
   "metadata": {},
   "outputs": [],
   "source": [
    "import time\n",
    "\n",
    "class ExecutionTimer:\n",
    "    def __init__(self, repetitions=1):\n",
    "        self.repetitions = repetitions\n",
    "\n",
    "    def __call__(self, func):\n",
    "        def timer(*args, **kwargs):\n",
    "            result = None\n",
    "            total_time = 0\n",
    "            print(f\"Running {func.__name__}() {self.repetitions} times\")\n",
    "            for _ in range(self.repetitions):\n",
    "                start = time.perf_counter()\n",
    "                result = func(*args, **kwargs)\n",
    "                end = time.perf_counter()\n",
    "                total_time += end - start\n",
    "            average_time = total_time / self.repetitions\n",
    "            print(\n",
    "                f\"{func.__name__}() takes \"\n",
    "                f\"{average_time * 1000:.4f} ms on average\"\n",
    "            )\n",
    "            return result\n",
    "\n",
    "        return timer"
   ]
  },
  {
   "cell_type": "code",
   "execution_count": null,
   "id": "c06d6539",
   "metadata": {},
   "outputs": [],
   "source": [
    "import json\n",
    "\n",
    "import yaml\n",
    "\n",
    "class JsonSerializer:\n",
    "    def __call__(self, data):\n",
    "        return json.dumps(data, indent=4)\n",
    "\n",
    "class YamlSerializer:\n",
    "    def __call__(self, data):\n",
    "        return yaml.dump(data)\n",
    "\n",
    "class DataSerializer:\n",
    "    def __init__(self, serializing_strategy):\n",
    "        self.serializing_strategy = serializing_strategy\n",
    "\n",
    "    def serialize(self, data):\n",
    "        return self.serializing_strategy(data)\n",
    "\n",
    ">>> serializer = DataSerializer(JsonSerializer())\n",
    ">>> print(f\"JSON:\\n{serializer.serialize(data)}\")\n",
    "JSON:\n",
    "{\n",
    "    \"name\": \"Jane Doe\",\n",
    "    \"age\": 30,\n",
    "    \"city\": \"Salt Lake City\",\n",
    "    \"job\": \"Python Developer\"\n",
    "}\n",
    "\n",
    ">>> # Switch strategy\n",
    ">>> serializer.serializing_strategy = YamlSerializer()\n",
    ">>> print(f\"YAML:\\n{serializer.serialize(data)}\")\n",
    "YAML:\n",
    "age: 30\n",
    "city: Salt Lake City\n",
    "job: Python Developer\n",
    "name: Jane Doe"
   ]
  }
 ],
 "metadata": {
  "kernelspec": {
   "display_name": "Django Shell-Plus",
   "language": "python",
   "name": "django_extensions"
  },
  "language_info": {
   "codemirror_mode": {
    "name": "ipython",
    "version": 3
   },
   "file_extension": ".py",
   "mimetype": "text/x-python",
   "name": "python",
   "nbconvert_exporter": "python",
   "pygments_lexer": "ipython3",
   "version": "3.10.12"
  }
 },
 "nbformat": 4,
 "nbformat_minor": 5
}
