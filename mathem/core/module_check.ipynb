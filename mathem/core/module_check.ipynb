{
 "cells": [
  {
   "cell_type": "code",
   "execution_count": 1,
   "id": "04f18304",
   "metadata": {},
   "outputs": [
    {
     "data": {
      "text/plain": [
       "'4 - 8'"
      ]
     },
     "execution_count": 1,
     "metadata": {},
     "output_type": "execute_result"
    }
   ],
   "source": [
    "from mathem.core.base import SubtractionTask\n",
    "task = SubtractionTask()\n",
    "question = task.get_question()\n",
    "question"
   ]
  },
  {
   "cell_type": "code",
   "execution_count": 5,
   "id": "98ff322f",
   "metadata": {},
   "outputs": [],
   "source": [
    "user_solution = -4"
   ]
  },
  {
   "cell_type": "code",
   "execution_count": 6,
   "id": "8bfafce9",
   "metadata": {},
   "outputs": [
    {
     "data": {
      "text/plain": [
       "True"
      ]
     },
     "execution_count": 6,
     "metadata": {},
     "output_type": "execute_result"
    }
   ],
   "source": [
    "evaluate = task.evaluate_solution(user_solution)\n",
    "evaluate"
   ]
  }
 ],
 "metadata": {
  "kernelspec": {
   "display_name": "Django Shell-Plus",
   "language": "python",
   "name": "django_extensions"
  },
  "language_info": {
   "codemirror_mode": {
    "name": "ipython",
    "version": 3
   },
   "file_extension": ".py",
   "mimetype": "text/x-python",
   "name": "python",
   "nbconvert_exporter": "python",
   "pygments_lexer": "ipython3",
   "version": "3.10.12"
  }
 },
 "nbformat": 4,
 "nbformat_minor": 5
}
