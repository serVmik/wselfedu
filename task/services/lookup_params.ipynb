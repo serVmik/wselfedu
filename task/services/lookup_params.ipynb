{
 "cells": [
  {
   "cell_type": "code",
   "execution_count": 32,
   "id": "7cd847f3",
   "metadata": {},
   "outputs": [
    {
     "data": {
      "text/plain": [
       "<QuerySet [<WordModel: word_u3_w1>, <WordModel: word_u3_w2>, <WordModel: word_u3_w3>, <WordModel: word_u3_w4>, <WordModel: word_u3_w10>]>"
      ]
     },
     "execution_count": 32,
     "metadata": {},
     "output_type": "execute_result"
    }
   ],
   "source": [
    "from django.db.models import Q, F\n",
    "\n",
    "from english.models import WordModel\n",
    "\n",
    "study = [0, 1, 2, 3, 4, 5, 6]\n",
    "user_id = 3\n",
    "\n",
    "words = WordModel.objects.filter(\n",
    "    Q(user_id=user_id),\n",
    "    Q(worduserknowledgerelation__knowledge_assessment__in=study)\n",
    "    | Q(\n",
    "        user_id=user_id\n",
    "    ) & ~Q(\n",
    "        worduserknowledgerelation__user_id=user_id,\n",
    "        worduserknowledgerelation__word_id=F('pk'),\n",
    "    )\n",
    ")\n",
    "\n",
    "words"
   ]
  }
 ],
 "metadata": {
  "kernelspec": {
   "display_name": "Django Shell-Plus",
   "language": "python",
   "name": "django_extensions"
  },
  "language_info": {
   "codemirror_mode": {
    "name": "ipython",
    "version": 3
   },
   "file_extension": ".py",
   "mimetype": "text/x-python",
   "name": "python",
   "nbconvert_exporter": "python",
   "pygments_lexer": "ipython3",
   "version": "3.10.12"
  }
 },
 "nbformat": 4,
 "nbformat_minor": 5
}
